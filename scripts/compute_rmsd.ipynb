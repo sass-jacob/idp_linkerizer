{
  "nbformat": 4,
  "nbformat_minor": 0,
  "metadata": {
    "colab": {
      "provenance": []
    },
    "kernelspec": {
      "name": "python3",
      "display_name": "Python 3"
    },
    "language_info": {
      "name": "python"
    }
  },
  "cells": [
    {
      "cell_type": "code",
      "execution_count": null,
      "metadata": {
        "id": "T92wPVksfv_R"
      },
      "outputs": [],
      "source": [
        "from google.colab import drive\n",
        "drive.mount('/content/drive')"
      ]
    },
    {
      "cell_type": "code",
      "source": [
        "import os\n",
        "import shutil\n",
        "\n",
        "#TODO: Set directory to the directory containing the zipped alphafold results files\n",
        "directory = '/path/to/alphafold/results'\n",
        "\n",
        "#unzip all the files within the directory on google drive\n",
        "for filename in os.listdir(directory):\n",
        "    if filename.endswith(\".zip\"):\n",
        "        filepath = os.path.join(directory, filename)\n",
        "        shutil.unpack_archive(filepath, directory)"
      ],
      "metadata": {
        "id": "NJfpB4L3rFL5"
      },
      "execution_count": null,
      "outputs": []
    },
    {
      "cell_type": "code",
      "source": [
        "!pip install biopython"
      ],
      "metadata": {
        "id": "md7uVmazgjcJ"
      },
      "execution_count": null,
      "outputs": []
    },
    {
      "cell_type": "code",
      "source": [
        "import os\n",
        "import numpy as np\n",
        "from Bio import pairwise2\n",
        "from Bio.PDB import PDBParser, Superimposer, PDBIO\n",
        "\n",
        "#reference pdb file - DOES NOT CHANGE\n",
        "reference_pdb_file = \"/content/drive/MyDrive/ML_Project/pdbs/avg_2beg.pdb\"\n",
        "output_dir = os.path.dirname(reference_pdb_file)\n",
        "\n",
        "#get a list of all the pdb files in subdirectories containing \"rank_001\"\n",
        "pdb_files = []\n",
        "for root, dirs, files in os.walk(directory):\n",
        "    for file in files:\n",
        "        if \"rank_001\" in file and file.endswith(\".pdb\"):\n",
        "            pdb_files.append(os.path.join(root, file))\n",
        "\n",
        "#initialize the parser\n",
        "parser = PDBParser(QUIET=True)\n",
        "\n",
        "#load the reference structure\n",
        "reference_structure = parser.get_structure(\"reference\", reference_pdb_file)\n",
        "\n",
        "#get the CA atoms of the reference structure\n",
        "reference_atoms = []\n",
        "for model in reference_structure:\n",
        "    for chain in model:\n",
        "        for residue in chain:\n",
        "            if 17 <= residue.id[1] <= 42:\n",
        "                for atom in residue:\n",
        "                    if atom.name == \"CA\":\n",
        "                        reference_atoms.append(atom)\n",
        "\n",
        "#loop over the pdb files and calculate the RMSD\n",
        "rmsd_values = []\n",
        "for pdb_file in pdb_files:\n",
        "    #load the structure\n",
        "    structure = parser.get_structure(\"structure\", pdb_file)\n",
        "\n",
        "    #get the atoms of the structure\n",
        "    atoms = []\n",
        "    for model in structure:\n",
        "        for chain in model:\n",
        "            for residue in chain:\n",
        "                if 17 <= residue.id[1]%48 <= 42:\n",
        "                    for atom in residue:\n",
        "                        if atom.name == \"CA\":\n",
        "                            atoms.append(atom)\n",
        "    #superimpose the structure onto the reference structure\n",
        "    superimposer = Superimposer()\n",
        "    superimposer.set_atoms(reference_atoms, atoms)\n",
        "    superimposer.apply(atoms)\n",
        "\n",
        "    #calculate the RMSD\n",
        "    rmsd = superimposer.rms\n",
        "    #store the RMSD value\n",
        "    pdb_name = os.path.basename(pdb_file)[:6]\n",
        "    rmsd_values.append((pdb_name, rmsd))\n",
        "\n",
        "#write the output file in the same directory as the reference PDB file\n",
        "# TODO: CHANGE FILE OUTPUT NAME\n",
        "output_file = os.path.join(output_dir, 'output_file_name.txt')\n",
        "with open(output_file, 'w') as f:\n",
        "    for pdb_name, rmsd in rmsd_values:\n",
        "        f.write('{}\\t{}\\n'.format(pdb_name, rmsd))"
      ],
      "metadata": {
        "id": "aTgg3ShHj2cJ"
      },
      "execution_count": null,
      "outputs": []
    },
    {
      "cell_type": "code",
      "source": [
        "#check the shape of the output\n",
        "print(np.shape(rmsd_values))"
      ],
      "metadata": {
        "id": "tekMDWmvmLqB"
      },
      "execution_count": null,
      "outputs": []
    }
  ]
}